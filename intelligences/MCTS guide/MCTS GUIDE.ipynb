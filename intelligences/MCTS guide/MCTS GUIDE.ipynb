{
 "cells": [
  {
   "cell_type": "markdown",
   "metadata": {},
   "source": [
    "# Classes"
   ]
  },
  {
   "cell_type": "code",
   "execution_count": 1,
   "metadata": {
    "collapsed": true
   },
   "outputs": [],
   "source": [
    "class Pawn:\n",
    "\n",
    "    \"\"\"\n",
    "    Class defining what a pawn is. It is characterised by :\n",
    "    - its coordinates\n",
    "    - its player\n",
    "    - where it can go\n",
    "    \"\"\"\n",
    "\n",
    "    def __init__(self, id_player):\n",
    "        self.x = 0\n",
    "        self.y = 0\n",
    "        self.id = id_player\n",
    "        self.accessibles = []\n",
    "        self.active = True\n",
    "        self.remain = 1\n",
    "\n",
    "    def move(self, board, player, direction, k):\n",
    "        \"\"\"\n",
    "        0 -> upper right (+1, -1)\n",
    "        1 -> right (+2, 0)\n",
    "        2 -> lower right (+1, +1)\n",
    "        3 -> lower left (-1, +1)\n",
    "        4 -> left (-2, 0)\n",
    "        5 -> upper left (-1, -1)\n",
    "        \"\"\"\n",
    "\n",
    "        x0 = self.x\n",
    "        y0 = self.y\n",
    "\n",
    "        if direction == 0:\n",
    "            self.x += k\n",
    "            self.y -= k\n",
    "        elif direction == 1:\n",
    "            self.x += 2*k\n",
    "        elif direction == 2:\n",
    "            self.x += k\n",
    "            self.y += k\n",
    "        elif direction == 3:\n",
    "            self.x -= k\n",
    "            self.y += k\n",
    "        elif direction == 4:\n",
    "            self.x -= 2*k\n",
    "        elif direction == 5:\n",
    "            self.x -= k\n",
    "            self.y -= k\n",
    "\n",
    "        player.score += board.cases_tab[y0][x0].score\n",
    "\n",
    "        board.cases_tab[y0][x0].change_state(0)\n",
    "\n",
    "        board.cases_tab[self.y][self.x].change_state(2)\n",
    "        board.cases_tab[self.y][self.x].owner = self.id\n",
    "\n",
    "    def place(self, board, pos_x, pos_y):\n",
    "        self.x = pos_x\n",
    "        self.y = pos_y\n",
    "\n",
    "        board.cases_tab[pos_y][pos_x].change_state(2)\n",
    "        board.cases_tab[pos_y][pos_x].owner = self.id\n",
    "\n",
    "    def compute_accessible(self, board):\n",
    "\n",
    "        \"\"\"\n",
    "        we try each direction one after another and collect the data under the format\n",
    "        [a, b, c, d, e, f] where each letter accounts for the number of reachable (inclusive) cases in the given direction\n",
    "        \"\"\"\n",
    "        if self.active:\n",
    "            x = self.x\n",
    "            y = self.y\n",
    "\n",
    "            dirs = [[1, -1], [2, 0], [1, 1], [-1, 1], [-2, 0], [-1, -1]]\n",
    "\n",
    "            def advance(x, y, dx, dy):\n",
    "                k = 0\n",
    "                while 0 <= x+dx < 15 and 0 <= y+dy < 8 and \\\n",
    "                    board.cases_tab[y+dy][x+dx].state == 1:\n",
    "                    k += 1\n",
    "                    x += dx\n",
    "                    y += dy\n",
    "                return k\n",
    "\n",
    "            max_per_dir = []\n",
    "\n",
    "            for (dx, dy) in dirs:\n",
    "                max_per_dir.append(advance(x, y, dx, dy))\n",
    "\n",
    "            self.accessibles = max_per_dir\n",
    "\n",
    "            if self.accessibles == [0, 0, 0, 0, 0, 0]:\n",
    "                self.active = False\n",
    "                self.remain = 0\n",
    "        else:\n",
    "            self.remain = 1"
   ]
  },
  {
   "cell_type": "code",
   "execution_count": 2,
   "metadata": {
    "collapsed": true
   },
   "outputs": [],
   "source": [
    "class Player:\n",
    "\n",
    "    \"\"\"\n",
    "    Class defining a player. It can have multiple modes:\n",
    "    0 -> human\n",
    "    1 -> random\n",
    "    2 -> minimax\n",
    "    \"\"\"\n",
    "\n",
    "    number_player = 0\n",
    "\n",
    "    def __init__(self, mode, total_number):\n",
    "        self.score = 0\n",
    "        self.mode = mode\n",
    "        self.number = Player.number_player\n",
    "\n",
    "        p = []\n",
    "        for k in range(total_number):\n",
    "            p.append(Pawn(self.number))\n",
    "\n",
    "        self.pawns = p\n",
    "\n",
    "        Player.number_player += 1"
   ]
  },
  {
   "cell_type": "code",
   "execution_count": 3,
   "metadata": {
    "collapsed": true
   },
   "outputs": [],
   "source": [
    "class Case:\n",
    "\n",
    "    \"\"\"\n",
    "    Class defining a case, characterised by :\n",
    "    - its coordinates\n",
    "    - its score\n",
    "    - its state (1 for accessible, 0 for removed, 2 for occupied)\n",
    "    - its owner (-1 for none, number of player otherwise)\n",
    "    \"\"\"\n",
    "\n",
    "    def __init__(self, pos_x, pos_y, n, state = True):\n",
    "        self.x = pos_x\n",
    "        self.y = pos_y\n",
    "        self.score = n\n",
    "        self.state = 1\n",
    "        self.owner = -1\n",
    "\n",
    "    def change_state(self, new_state):\n",
    "        self.state = new_state\n",
    "    \n",
    "    def change_owner(self, new_owner):\n",
    "        self.owner = new_owner"
   ]
  },
  {
   "cell_type": "code",
   "execution_count": 4,
   "metadata": {
    "collapsed": true
   },
   "outputs": [],
   "source": [
    "class Board:\n",
    "\n",
    "    \"\"\"\n",
    "    Class defining a board, set of cases\n",
    "    \"\"\"\n",
    "\n",
    "    def __init__(self):\n",
    "        n_1 = 30\n",
    "        n_2 = 20\n",
    "        n_3 = 10\n",
    "        n_fish_tab = n_1*[1] + n_2*[2] + n_3*[3]\n",
    "        for k in range(10):\n",
    "            random.shuffle(n_fish_tab)\n",
    "\n",
    "        cases_tab = []\n",
    "\n",
    "        # number of cases already created\n",
    "        i = 0\n",
    "\n",
    "        for k in range(0, 8):\n",
    "\n",
    "            if k % 2 == 0:\n",
    "                n_case = 8\n",
    "            else:\n",
    "                n_case = 7\n",
    "\n",
    "            line = []\n",
    "\n",
    "            # to have a constant number of rows per line\n",
    "            if k % 2 == 1:\n",
    "                line.append(0)\n",
    "\n",
    "            for l in range(0, n_case):\n",
    "\n",
    "                n_fish = n_fish_tab[i]\n",
    "\n",
    "                # creation of the case\n",
    "                c = Case(2*l + k % 2, k, n_fish)\n",
    "                line.append(c)\n",
    "                line.append(0)\n",
    "\n",
    "                i += 1\n",
    "\n",
    "            # to have a constant number of rows per line\n",
    "            if k % 2 == 0:\n",
    "                line = line[:-1]\n",
    "\n",
    "            cases_tab.append(line)\n",
    "\n",
    "        self.cases_tab = cases_tab\n",
    "\n",
    "    def display(self):\n",
    "        \n",
    "        for k in range(0, 8):\n",
    "\n",
    "            if k % 2 == 0:\n",
    "                n_case = 8\n",
    "            else:\n",
    "                n_case = 7\n",
    "\n",
    "            s = ''\n",
    "            if k % 2 == 1:\n",
    "                s += ' '\n",
    "\n",
    "            for l in range(0, 15):\n",
    "                if self.cases_tab[k][l] != 0:\n",
    "                    c = self.cases_tab[k][l]\n",
    "\n",
    "                    if c.state == 0:\n",
    "                        s += '* '\n",
    "                    elif c.owner != -1:\n",
    "                        letter = chr(ord('a')+c.owner)\n",
    "                        s += letter + ' '\n",
    "                    else:\n",
    "                        s += str(c.score) + ' '\n",
    "\n",
    "            print(s)"
   ]
  },
  {
   "cell_type": "markdown",
   "metadata": {},
   "source": [
    "# Apprentissage par renforcement pour le choix du pion"
   ]
  },
  {
   "cell_type": "code",
   "execution_count": 5,
   "metadata": {
    "collapsed": true
   },
   "outputs": [],
   "source": [
    "import tensorflow as tf\n",
    "import numpy as np\n",
    "\n",
    "import pickle\n",
    "\n",
    "import os\n",
    "from datetime import datetime"
   ]
  },
  {
   "cell_type": "markdown",
   "metadata": {},
   "source": [
    "## Fonctions utiles"
   ]
  },
  {
   "cell_type": "code",
   "execution_count": 6,
   "metadata": {
    "collapsed": true
   },
   "outputs": [],
   "source": [
    "def make_input(board, players, player_number, pawn_number):\n",
    "    \n",
    "    P = len(players)\n",
    "    N = 6-P\n",
    "    \n",
    "    input_table = np.zeros((8, 15, P*N+1))\n",
    "    \n",
    "    # ajout du score des cases si accessibles, 0 sinon\n",
    "    for k in range(len(board.cases_tab)): # [0; 7]\n",
    "        for l in range(len(board.cases_tab[0])): # [0; 14]\n",
    "            if board.cases_tab[k][l] != 0:\n",
    "                case = board.cases_tab[k][l]\n",
    "                if case.state == 1:\n",
    "                    input_table[k, l, 0] = case.score\n",
    "    \n",
    "    def make_input_pawn(players, player_number, pawn_number):\n",
    "        accessibles = players[player_number].pawns[pawn_number].accessibles\n",
    "        x, y = players[player_number].pawns[pawn_number].x, players[player_number].pawns[pawn_number].y\n",
    "        \n",
    "        input_cur_pawn = np.zeros((8, 15))\n",
    "        \n",
    "        input_cur_pawn[x+1:x+accessibles[0]+1, y-1:y-accessibles[0]-1] = 1\n",
    "        input_cur_pawn[x+2:x+2*accessibles[1]+1:2, y] = 1\n",
    "        input_cur_pawn[x+1:x+accessibles[2]+1, y+1:y+accessibles[2]+1] = 1\n",
    "        input_cur_pawn[x-1:x-accessibles[3]-1, y+1:y+accessibles[3]+1] = 1\n",
    "        input_cur_pawn[x-2:x-2*accessibles[4]-1:2, y] = 1\n",
    "        input_cur_pawn[x-1:x-accessibles[5]-1, y-1:y-accessibles[5]-1] = 1\n",
    "    \n",
    "        return input_cur_pawn\n",
    "    \n",
    "    input_table[:, :, 1] = make_input_pawn(players, player_number, pawn_number)\n",
    "    \n",
    "    i = 2\n",
    "    \n",
    "    for pawn in range(N):\n",
    "        if pawn != pawn_number:\n",
    "            input_table[:, :, i] = make_input_pawn(players, player_number, pawn_number)\n",
    "            i += 1\n",
    "    \n",
    "    for player in range(P):\n",
    "        if player != player_number:\n",
    "            for pawn in range(N):\n",
    "                input_table[:, :, i] = make_input_pawn(players, player, pawn)\n",
    "                i += 1\n",
    "    \n",
    "    return input_table"
   ]
  },
  {
   "cell_type": "code",
   "execution_count": 7,
   "metadata": {
    "collapsed": true
   },
   "outputs": [],
   "source": [
    "def make_output(players, player_number, pawn_number, logits):\n",
    "    \n",
    "    accessibles = players[player_number].pawns[pawn_number].accessibles\n",
    "    x, y = players[player_number].pawns[pawn_number].x, players[player_number].pawns[pawn_number].y\n",
    "    \n",
    "    proba = 0\n",
    "    direction, distance = 0, 0\n",
    "    \n",
    "    for d in range(1, accessibles[0]+1):\n",
    "        nx, ny = x + d, y - d\n",
    "        nc = 15*y+x\n",
    "        if logits[nc] > proba:\n",
    "            proba = logits[nc]\n",
    "            direction = 0\n",
    "            distance = d\n",
    "    \n",
    "    for d in range(1, accessibles[1]+1):\n",
    "        nx, ny = x + 2 * d, y\n",
    "        nc = 15*y+x\n",
    "        if logits[nc] > proba:\n",
    "            proba = logits[nc]\n",
    "            direction = 1\n",
    "            distance = d\n",
    "        \n",
    "    for d in range(1, accessibles[2]+1):\n",
    "        nx, ny = x + d, y + d\n",
    "        nc = 15*y+x\n",
    "        if logits[nc] > proba:\n",
    "            proba = logits[nc]\n",
    "            direction = 2\n",
    "            distance = d\n",
    "        \n",
    "    for d in range(1, accessibles[3]+1):\n",
    "        nx, ny = x - d, y + d\n",
    "        nc = 15*y+x\n",
    "        if logits[nc] > proba:\n",
    "            proba = logits[nc]\n",
    "            direction = 3\n",
    "            distance = d\n",
    "        \n",
    "    for d in range(1, accessibles[4]+1):\n",
    "        nx, ny = x - 2 * d, y\n",
    "        nc = 15*y+x\n",
    "        if logits[nc] > proba:\n",
    "            proba = logits[nc]\n",
    "            direction = 4\n",
    "            distance = d\n",
    "        \n",
    "    for d in range(1, accessibles[5]+1):\n",
    "        nx, ny = x - d, y - d\n",
    "        nc = 15*y+x\n",
    "        if logits[nc] > proba:\n",
    "            proba = logits[nc]\n",
    "            direction = 5\n",
    "            distance = d\n",
    "    \n",
    "    \n",
    "    return proba, direction, distance"
   ]
  },
  {
   "cell_type": "code",
   "execution_count": 8,
   "metadata": {
    "collapsed": true
   },
   "outputs": [],
   "source": [
    "def divide_data(X_data, y_data):\n",
    "    n = len(X_data)\n",
    "    training_ratio = 0.8\n",
    "    training_number = int(training_ratio * n)\n",
    "    \n",
    "    indices = np.random.permutation(n)\n",
    "    X_train = X_data[indices[:training_number]]\n",
    "    y_train = y_data[indices[:training_number]]\n",
    "    X_test = X_data[indices[training_number:]]\n",
    "    y_test = y_data[indices[training_number:]]\n",
    "    \n",
    "    return X_train, y_train, X_test, y_test"
   ]
  },
  {
   "cell_type": "code",
   "execution_count": 9,
   "metadata": {
    "collapsed": true
   },
   "outputs": [],
   "source": [
    "def next_batch(X_data, y_data, batch_size):\n",
    "    n = len(X_data)\n",
    "    \n",
    "    indices = np.random.permutation(n)\n",
    "    return X_data[indices[:batch_size]], y_data[indices[:batch_size]]"
   ]
  },
  {
   "cell_type": "code",
   "execution_count": 10,
   "metadata": {
    "collapsed": true
   },
   "outputs": [],
   "source": [
    "def log_dir():\n",
    "    now = datetime.utcnow().strftime(\"%Y%m%d%H%M%S\")\n",
    "    root_logdir = \"logs\"\n",
    "    name = \"run-\" + now\n",
    "    return \"{}/{}/\".format(root_logdir, name)"
   ]
  },
  {
   "cell_type": "markdown",
   "metadata": {},
   "source": [
    "## 1. Architecture"
   ]
  },
  {
   "cell_type": "code",
   "execution_count": 11,
   "metadata": {
    "collapsed": true
   },
   "outputs": [],
   "source": [
    "height = 15\n",
    "width = 8\n",
    "channels = 5\n",
    "\n",
    "conv_filters_1 = 5\n",
    "conv_kernel_1 = 5\n",
    "conv_stride_1 = [1, 1]\n",
    "conv_padding_1 = \"SAME\"\n",
    "\n",
    "conv_filters_2 = 15\n",
    "conv_kernel_2 = 5\n",
    "conv_stride_2 = [1, 1]\n",
    "conv_padding_2 = \"SAME\"\n",
    "\n",
    "conv_filters_3 = 50\n",
    "conv_kernel_3 = 5\n",
    "conv_stride_3 = [1, 1]\n",
    "conv_padding_3 = \"SAME\"\n",
    "\n",
    "n_hidden_1 = 200\n",
    "n_hidden_2 = 150\n",
    "\n",
    "n_output = 1\n",
    "\n",
    "tf.reset_default_graph()"
   ]
  },
  {
   "cell_type": "code",
   "execution_count": 12,
   "metadata": {
    "collapsed": true
   },
   "outputs": [],
   "source": [
    "X = tf.placeholder(tf.float32, shape=(None, height, width, channels), name=\"X\")\n",
    "y = tf.placeholder(tf.int64, shape=(None,n_output), name=\"y\")"
   ]
  },
  {
   "cell_type": "code",
   "execution_count": 13,
   "metadata": {
    "collapsed": true
   },
   "outputs": [],
   "source": [
    "with tf.name_scope(\"dnn\"):\n",
    "    conv1 = tf.layers.conv2d(X, filters=conv_filters_1, kernel_size=conv_kernel_1, strides=conv_stride_1, \\\n",
    "                             padding=conv_padding_1, activation=tf.nn.relu, name=\"conv1\")\n",
    "    max_pool1 = tf.nn.max_pool(conv1, ksize=max_pool_ksize_1, strides=max_pool_strides_1, \\\n",
    "                               padding=max_pool_padding_1, name=\"maxpool1\")\n",
    "    conv2 = tf.layers.conv2d(max_pool1, filters=conv_filters_2, kernel_size=conv_kernel_2, \\\n",
    "                             strides=conv_stride_2, padding=conv_padding_2, activation=tf.nn.relu, name=\"conv2\")\n",
    "    max_pool2 = tf.nn.max_pool(conv2, ksize=max_pool_ksize_2, strides=max_pool_strides_2, \\\n",
    "                               padding=max_pool_padding_2, name=\"maxpool1\")\n",
    "    conv3 = tf.layers.conv2d(max_pool2, filters=conv_filters_3, kernel_size=conv_kernel_3, \\\n",
    "                             strides=conv_stride_3, padding=conv_padding_3, activation=tf.nn.relu, name=\"conv3\")\n",
    "\n",
    "    flat = tf.reshape(conv3, shape=[-1, conv_filters_3*8])    \n",
    "    hidden1 = tf.layers.dense(flat, n_hidden_1, name=\"hidden1\", activation=tf.nn.relu)\n",
    "    hidden2 = tf.layers.dense(hidden1, n_hidden_2, name=\"hidden2\", activation=tf.nn.relu)\n",
    "    y_predict = tf.layers.dense(hidden2, n_output, name=\"outputs\")"
   ]
  },
  {
   "cell_type": "code",
   "execution_count": 14,
   "metadata": {
    "collapsed": true
   },
   "outputs": [],
   "source": [
    "with tf.name_scope(\"loss\"):\n",
    "    loss = tf.reduce_mean((y_predict-y)**2, name=\"loss\")\n",
    "loss_summary = tf.summary.scalar(\"loss_sum\", loss)"
   ]
  },
  {
   "cell_type": "code",
   "execution_count": 15,
   "metadata": {
    "collapsed": true
   },
   "outputs": [],
   "source": [
    "learning_rate = 0.01\n",
    "\n",
    "with tf.name_scope(\"train\"):\n",
    "    optimizer = tf.train.GradientDescentOptimizer(learning_rate=learning_rate)\n",
    "    training_op = optimizer.minimize(loss, name=\"training_op\")"
   ]
  },
  {
   "cell_type": "code",
   "execution_count": 16,
   "metadata": {
    "collapsed": true
   },
   "outputs": [],
   "source": [
    "with tf.name_scope(\"eval\"):\n",
    "    accuracy = abs(y[0]-y_predict[0])\n",
    "accuracy_summary = tf.summary.scalar(\"accuracy_sum\", accuracy)"
   ]
  },
  {
   "cell_type": "code",
   "execution_count": 17,
   "metadata": {
    "collapsed": true
   },
   "outputs": [],
   "source": [
    "init = tf.global_variables_initializer()\n",
    "saver = tf.train.Saver()"
   ]
  },
  {
   "cell_type": "code",
   "execution_count": 18,
   "metadata": {
    "collapsed": true
   },
   "outputs": [],
   "source": [
    "logdir = log_dir()\n",
    "file_saver = tf.summary.FileWriter(logdir, tf.get_default_graph())"
   ]
  },
  {
   "cell_type": "markdown",
   "metadata": {},
   "source": [
    "## 2. Sauvegarde"
   ]
  },
  {
   "cell_type": "code",
   "execution_count": 19,
   "metadata": {
    "collapsed": true
   },
   "outputs": [],
   "source": [
    "checkpoint_path = \"saves/network_two.ckpt\"\n",
    "checkpoint_epoch_path = checkpoint_path + \".epoch\"\n",
    "final_model_path = \"saves/network_two\""
   ]
  },
  {
   "cell_type": "code",
   "execution_count": 20,
   "metadata": {
    "collapsed": true
   },
   "outputs": [],
   "source": [
    "if False:\n",
    "    with tf.Session() as sess:\n",
    "\n",
    "        if os.path.isfile(final_model_path + \".meta\"):\n",
    "                print(\"Training was interrupted. Session was restored.\")\n",
    "\n",
    "                saver = tf.train.import_meta_graph(final_model_path + \".meta\")\n",
    "                saver.restore(sess, final_model_path)\n",
    "                #saver.restore(sess, final_model_path)\n",
    "        else:\n",
    "            sess.run(init)\n",
    "\n",
    "        saver.save(sess, final_model_path)"
   ]
  },
  {
   "cell_type": "markdown",
   "metadata": {},
   "source": [
    "## Entrainement"
   ]
  },
  {
   "cell_type": "code",
   "execution_count": 21,
   "metadata": {
    "collapsed": true
   },
   "outputs": [],
   "source": [
    "number_players = 2\n",
    "number_player_names = [\"two\", \"three\", \"four\"]"
   ]
  },
  {
   "cell_type": "code",
   "execution_count": 22,
   "metadata": {
    "collapsed": true
   },
   "outputs": [],
   "source": [
    "path = \"saves/network_\" + number_player_names[number_players - 2]\n",
    "\n",
    "checkpoint_path = path + \".ckpt\"\n",
    "epoch_path = path + \".epoch\"\n",
    "loss_path = path + \".loss\"\n",
    "meta_path = path + \".meta\""
   ]
  },
  {
   "cell_type": "code",
   "execution_count": 23,
   "metadata": {
    "collapsed": true
   },
   "outputs": [],
   "source": [
    "def train(X_data, y_data, n_epoch, batch_size):\n",
    "    \n",
    "    X_train, y_train, X_valid, y_valid = divide_data(X_data, y_data)\n",
    "    batch_number = int(np.ceil(len(X_train)/batch_size))\n",
    "\n",
    "    with tf.Session() as sess:\n",
    "        if os.path.isfile(meta_path):            \n",
    "            saver = tf.train.import_meta_graph(meta_path)\n",
    "            saver.restore(sess, path)\n",
    "        \n",
    "            with open(epoch_path, 'rb') as f:\n",
    "                start_epoch = int(f.read())\n",
    "            with open(loss_path, 'rb') as f:\n",
    "                best_loss = float(f.read())\n",
    "            \n",
    "            # start_epoch = 0\n",
    "            # best_loss = np.infty\n",
    "\n",
    "            print(\"Training was interrupted. Session was restored at epoch \" + str(start_epoch) + \" and loss \" + str(best_loss))\n",
    "        else:\n",
    "            start_epoch = 0\n",
    "            best_loss = np.infty\n",
    "            sess.run(init)\n",
    "        \n",
    "        graph = tf.get_default_graph()\n",
    "\n",
    "        for epoch in range(start_epoch, start_epoch + n_epoch + 1):\n",
    "            for batch_index in range(batch_number):\n",
    "                X_batch, y_batch = next_batch(X_train, y_train, batch_size)\n",
    "                sess.run(training_op, feed_dict={X:X_batch, y:y_batch})\n",
    "\n",
    "            \n",
    "            accuracy_val, loss_val, accuracy_summary_str, loss_summary_str = sess.run([accuracy, loss, accuracy_summary, loss_summary], feed_dict={X:X_valid, y:y_valid})\n",
    "            file_saver.add_summary(loss_summary_str, epoch)\n",
    "            file_saver.add_summary(accuracy_summary_str, epoch)\n",
    "\n",
    "            if epoch % 5 == 0:\n",
    "                print(\"Epoch : \", epoch,\n",
    "                     \"\\tValidation accuracy : {:.3f}\".format(accuracy_val * 100),\n",
    "                     \"\\tLoss : {:.5f}\".format(loss_val))\n",
    "                saver.save(sess, checkpoint_path)\n",
    "                with open(epoch_path, \"wb\") as f:\n",
    "                    f.write(b\"%d\" % (epoch + 1))\n",
    "                if loss_val < best_loss:\n",
    "                    best_loss = loss_val\n",
    "                    with open(loss_path, \"wb\") as f:\n",
    "                        f.write(b\"%f\" % (best_loss))\n",
    "                    saver.save(sess, path)"
   ]
  },
  {
   "cell_type": "markdown",
   "metadata": {},
   "source": [
    "## Données"
   ]
  },
  {
   "cell_type": "code",
   "execution_count": 26,
   "metadata": {
    "collapsed": true
   },
   "outputs": [],
   "source": [
    "number_data = \"minimax\"\n",
    "number_batch = 0"
   ]
  },
  {
   "cell_type": "code",
   "execution_count": 27,
   "metadata": {
    "collapsed": true
   },
   "outputs": [],
   "source": [
    "with open('data/board_save_' + str(number_data) + '_' + str(number_batch) + '.obj', 'rb') as board_save:\n",
    "    board = pickle.load(board_save)\n",
    "\n",
    "with open('data/players_save_' + str(number_data) + '_' + str(number_batch) + '.obj', 'rb') as players_save :\n",
    "    players = pickle.load(players_save)\n",
    "\n",
    "with open('data/pawn_save_' + str(number_data) + '_' + str(number_batch) + '.obj', 'rb') as pawn_save :\n",
    "    pawn = pickle.load(pawn_save)\n",
    "\n",
    "with open('data/move_save_' + str(number_data) + '_' + str(number_batch) + '.obj', 'rb') as move_save :\n",
    "    move = pickle.load(move_save)\n",
    "\n",
    "with open('data/origin_save_' + str(number_data) + '_' + str(number_batch) + '.obj', 'rb') as origin_save :\n",
    "    origin = pickle.load(origin_save)"
   ]
  },
  {
   "cell_type": "code",
   "execution_count": 28,
   "metadata": {
    "collapsed": true
   },
   "outputs": [],
   "source": [
    "X_obs = []\n",
    "for k in range(len(board)):\n",
    "    X_obs.append(make_input(board[k], players[k], origin[k], pawn[k]))"
   ]
  },
  {
   "cell_type": "code",
   "execution_count": 29,
   "metadata": {},
   "outputs": [
    {
     "data": {
      "text/plain": [
       "402"
      ]
     },
     "execution_count": 29,
     "metadata": {},
     "output_type": "execute_result"
    }
   ],
   "source": [
    "len(X_obs)"
   ]
  },
  {
   "cell_type": "code",
   "execution_count": 30,
   "metadata": {
    "collapsed": true
   },
   "outputs": [],
   "source": [
    "rejected = []\n",
    "y_obs = []\n",
    "for k in range(len(board)):\n",
    "    x_pos, y_pos = players[k][origin[k]].pawns[pawn[k]].x, players[k][origin[k]].pawns[pawn[k]].y\n",
    "    direction, distance = move[k]\n",
    "    if direction == 0:\n",
    "        nx, ny = x_pos + distance, y_pos - distance\n",
    "    if direction == 1:\n",
    "        nx, ny = x_pos + 2*distance, y_pos\n",
    "    if direction == 2:\n",
    "        nx, ny = x_pos + distance, y_pos + distance\n",
    "    if direction == 3:\n",
    "        nx, ny = x_pos - distance, y_pos + distance\n",
    "    if direction == 4:\n",
    "        nx, ny = x_pos - 2 * distance, y_pos\n",
    "    if direction == 5:\n",
    "        nx, ny = x_pos - distance, y_pos - distance\n",
    "    nc = ny * 15 + nx\n",
    "    if nc >= 0 and nc <= 120:\n",
    "        y_obs.append(nc)\n",
    "    else:\n",
    "        rejected.append(k)\n",
    "y_obs = np.array(y_obs)"
   ]
  },
  {
   "cell_type": "code",
   "execution_count": 31,
   "metadata": {
    "collapsed": true
   },
   "outputs": [],
   "source": [
    "for k in rejected[::-1]:\n",
    "    del(X_obs[k])"
   ]
  },
  {
   "cell_type": "code",
   "execution_count": 32,
   "metadata": {},
   "outputs": [
    {
     "name": "stdout",
     "output_type": "stream",
     "text": [
      "Données rejetées : 0\n"
     ]
    }
   ],
   "source": [
    "print(\"Données rejetées : \" + str(len(rejected)))"
   ]
  },
  {
   "cell_type": "code",
   "execution_count": 33,
   "metadata": {
    "collapsed": true
   },
   "outputs": [],
   "source": [
    "X_obs = np.array(X_obs)"
   ]
  },
  {
   "cell_type": "code",
   "execution_count": 37,
   "metadata": {
    "scrolled": false
   },
   "outputs": [
    {
     "name": "stdout",
     "output_type": "stream",
     "text": [
      "INFO:tensorflow:Restoring parameters from saves/network_two\n",
      "Training was interrupted. Session was restored at epoch 186 and loss 4.121263\n",
      "Epoch :  190 \tValidation accuracy : 1.235 \tLoss : 4.26915\n",
      "Epoch :  195 \tValidation accuracy : 2.469 \tLoss : 4.28760\n",
      "Epoch :  200 \tValidation accuracy : 0.000 \tLoss : 4.22639\n",
      "Epoch :  205 \tValidation accuracy : 1.235 \tLoss : 4.30674\n",
      "Epoch :  210 \tValidation accuracy : 0.000 \tLoss : 4.31410\n",
      "Epoch :  215 \tValidation accuracy : 1.235 \tLoss : 4.29714\n",
      "Epoch :  220 \tValidation accuracy : 2.469 \tLoss : 4.32289\n",
      "Epoch :  225 \tValidation accuracy : 0.000 \tLoss : 4.33219\n",
      "Epoch :  230 \tValidation accuracy : 1.235 \tLoss : 4.26370\n",
      "Epoch :  235 \tValidation accuracy : 0.000 \tLoss : 4.35203\n"
     ]
    }
   ],
   "source": [
    "train(X_obs, y_obs, n_epoch=50, batch_size=50)"
   ]
  },
  {
   "cell_type": "code",
   "execution_count": null,
   "metadata": {
    "collapsed": true
   },
   "outputs": [],
   "source": []
  }
 ],
 "metadata": {
  "kernelspec": {
   "display_name": "Python 3",
   "language": "python",
   "name": "python3"
  },
  "language_info": {
   "codemirror_mode": {
    "name": "ipython",
    "version": 3
   },
   "file_extension": ".py",
   "mimetype": "text/x-python",
   "name": "python",
   "nbconvert_exporter": "python",
   "pygments_lexer": "ipython3",
   "version": "3.6.1"
  }
 },
 "nbformat": 4,
 "nbformat_minor": 2
}
